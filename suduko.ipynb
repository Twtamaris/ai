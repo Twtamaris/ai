{
 "cells": [
  {
   "cell_type": "code",
   "execution_count": 28,
   "metadata": {},
   "outputs": [],
   "source": [
    "import tensorflow as tf\n",
    "from tensorflow.keras import models, layers\n",
    "import matplotlib.pyplot as plt\n",
    "from IPython.display import HTML\n"
   ]
  },
  {
   "cell_type": "code",
   "execution_count": 29,
   "metadata": {},
   "outputs": [],
   "source": [
    "BATCH_SIZE = 4\n",
    "IMAGE_SIZE = 256\n",
    "CHANNELS=3\n",
    "EPOCHS=50"
   ]
  },
  {
   "cell_type": "code",
   "execution_count": 30,
   "metadata": {},
   "outputs": [
    {
     "name": "stdout",
     "output_type": "stream",
     "text": [
      "Found 43 files belonging to 3 classes.\n"
     ]
    }
   ],
   "source": [
    "dataset = tf.keras.preprocessing.image_dataset_from_directory(\n",
    "    \"suduko\",\n",
    "    seed=123,\n",
    "    shuffle=True,\n",
    "    image_size=(IMAGE_SIZE,IMAGE_SIZE),\n",
    "    batch_size=BATCH_SIZE\n",
    ")"
   ]
  },
  {
   "cell_type": "code",
   "execution_count": 31,
   "metadata": {},
   "outputs": [
    {
     "data": {
      "text/plain": [
       "['one', 'two', 'zero']"
      ]
     },
     "execution_count": 31,
     "metadata": {},
     "output_type": "execute_result"
    }
   ],
   "source": [
    "\n",
    "class_names = dataset.class_names\n",
    "class_names\n"
   ]
  },
  {
   "cell_type": "code",
   "execution_count": 32,
   "metadata": {},
   "outputs": [
    {
     "name": "stdout",
     "output_type": "stream",
     "text": [
      "(4, 256, 256, 3)\n",
      "[0 0 0 1]\n"
     ]
    }
   ],
   "source": [
    "for image_batch, labels_batch in dataset.take(1):\n",
    "    print(image_batch.shape)\n",
    "    print(labels_batch.numpy())"
   ]
  },
  {
   "cell_type": "code",
   "execution_count": 33,
   "metadata": {},
   "outputs": [
    {
     "data": {
      "image/png": "[encoded data removed]",
      "text/plain": [
       "<Figure size 720x720 with 4 Axes>"
      ]
     },
     "metadata": {
      "needs_background": "light"
     },
     "output_type": "display_data"
    }
   ],
   "source": [
    "plt.figure(figsize=(10, 10))\n",
    "for image_batch, label_batch in dataset.take(1):\n",
    "    batch_size = len(image_batch)  # Get the batch size dynamically\n",
    "    for i in range(batch_size):\n",
    "        ax = plt.subplot(2, batch_size//2, i + 1)\n",
    "        plt.imshow(image_batch[i].numpy().astype(\"uint8\"))\n",
    "        plt.title(class_names[label_batch[i]])\n",
    "        plt.axis(\"off\")\n",
    "plt.show()"
   ]
  },
  {
   "cell_type": "code",
   "execution_count": 34,
   "metadata": {},
   "outputs": [
    {
     "data": {
      "text/plain": [
       "11"
      ]
     },
     "execution_count": 34,
     "metadata": {},
     "output_type": "execute_result"
    }
   ],
   "source": [
    "len(dataset)"
   ]
  },
  {
   "cell_type": "code",
   "execution_count": 35,
   "metadata": {},
   "outputs": [
    {
     "data": {
      "text/plain": [
       "8.8"
      ]
     },
     "execution_count": 35,
     "metadata": {},
     "output_type": "execute_result"
    }
   ],
   "source": [
    "train_size = 0.8\n",
    "len(dataset)*train_size"
   ]
  },
  {
   "cell_type": "code",
   "execution_count": 36,
   "metadata": {},
   "outputs": [
    {
     "data": {
      "text/plain": [
       "3"
      ]
     },
     "execution_count": 36,
     "metadata": {},
     "output_type": "execute_result"
    }
   ],
   "source": [
    "test_ds = dataset.skip(8)\n",
    "len(test_ds)"
   ]
  },
  {
   "cell_type": "code",
   "execution_count": 37,
   "metadata": {},
   "outputs": [
    {
     "data": {
      "text/plain": [
       "1.1"
      ]
     },
     "execution_count": 37,
     "metadata": {},
     "output_type": "execute_result"
    }
   ],
   "source": [
    "val_size=0.1\n",
    "len(dataset)*val_size\n"
   ]
  },
  {
   "cell_type": "code",
   "execution_count": 38,
   "metadata": {},
   "outputs": [
    {
     "data": {
      "text/plain": [
       "1"
      ]
     },
     "execution_count": 38,
     "metadata": {},
     "output_type": "execute_result"
    }
   ],
   "source": [
    "val_ds = test_ds.take(1)\n",
    "len(val_ds)"
   ]
  },
  {
   "cell_type": "code",
   "execution_count": 39,
   "metadata": {},
   "outputs": [
    {
     "data": {
      "text/plain": [
       "2"
      ]
     },
     "execution_count": 39,
     "metadata": {},
     "output_type": "execute_result"
    }
   ],
   "source": [
    "test_ds = test_ds.skip(1)\n",
    "len(test_ds)"
   ]
  },
  {
   "cell_type": "code",
   "execution_count": 40,
   "metadata": {},
   "outputs": [],
   "source": [
    "batch_size = 5"
   ]
  },
  {
   "cell_type": "code",
   "execution_count": 41,
   "metadata": {},
   "outputs": [],
   "source": [
    "def get_dataset_partitions_tf(ds, train_split=0.8, val_split=0.1, test_split=0.1, shuffle=True, shuffle_size=10000):\n",
    "    assert (train_split + test_split + val_split) == 1\n",
    "    \n",
    "    ds_size = len(ds)\n",
    "    \n",
    "    if shuffle:\n",
    "        ds = ds.shuffle(shuffle_size, seed=12)\n",
    "    \n",
    "    train_size = int(train_split * ds_size)\n",
    "    val_size = int(val_split * ds_size)\n",
    "    \n",
    "    train_ds = ds.take(train_size)    \n",
    "    val_ds = ds.skip(train_size).take(val_size)\n",
    "    test_ds = ds.skip(train_size).skip(val_size)\n",
    "    \n",
    "    return train_ds, val_ds, test_ds"
   ]
  },
  {
   "cell_type": "code",
   "execution_count": 42,
   "metadata": {},
   "outputs": [],
   "source": [
    "train_ds, val_ds, test_ds = get_dataset_partitions_tf(dataset)"
   ]
  },
  {
   "cell_type": "code",
   "execution_count": 43,
   "metadata": {},
   "outputs": [
    {
     "data": {
      "text/plain": [
       "(8, 1, 2)"
      ]
     },
     "execution_count": 43,
     "metadata": {},
     "output_type": "execute_result"
    }
   ],
   "source": [
    "len(train_ds), len(val_ds), len(test_ds)"
   ]
  },
  {
   "cell_type": "code",
   "execution_count": 44,
   "metadata": {},
   "outputs": [],
   "source": [
    "train_ds = train_ds.cache().shuffle(1000).prefetch(buffer_size=tf.data.AUTOTUNE)\n",
    "val_ds = val_ds.cache().shuffle(1000).prefetch(buffer_size=tf.data.AUTOTUNE)\n",
    "test_ds = test_ds.cache().shuffle(1000).prefetch(buffer_size=tf.data.AUTOTUNE)"
   ]
  },
  {
   "cell_type": "code",
   "execution_count": 45,
   "metadata": {},
   "outputs": [],
   "source": [
    "resize_and_rescale = tf.keras.Sequential([\n",
    "  layers.experimental.preprocessing.Resizing(IMAGE_SIZE, IMAGE_SIZE),\n",
    "  layers.experimental.preprocessing.Rescaling(1./255),\n",
    "])"
   ]
  },
  {
   "cell_type": "code",
   "execution_count": 46,
   "metadata": {},
   "outputs": [],
   "source": [
    "data_augmentation = tf.keras.Sequential([\n",
    "  layers.experimental.preprocessing.RandomFlip(\"horizontal_and_vertical\"),\n",
    "  layers.experimental.preprocessing.RandomRotation(0.2),\n",
    "])"
   ]
  },
  {
   "cell_type": "code",
   "execution_count": 47,
   "metadata": {},
   "outputs": [
    {
     "name": "stdout",
     "output_type": "stream",
     "text": [
      "WARNING:tensorflow:From c:\\Users\\baral\\AppData\\Local\\Programs\\Python\\Python39\\lib\\site-packages\\tensorflow\\python\\autograph\\pyct\\static_analysis\\liveness.py:83: Analyzer.lamba_check (from tensorflow.python.autograph.pyct.static_analysis.liveness) is deprecated and will be removed after 2023-09-23.\n",
      "Instructions for updating:\n",
      "Lambda fuctions will be no more assumed to be used in the statement where they are used, or at least in the same block. https://github.com/tensorflow/tensorflow/issues/56089\n",
      "WARNING:tensorflow:Using a while_loop for converting RngReadAndSkip cause there is no registered converter for this op.\n",
      "WARNING:tensorflow:Using a while_loop for converting Bitcast cause there is no registered converter for this op.\n",
      "WARNING:tensorflow:Using a while_loop for converting Bitcast cause there is no registered converter for this op.\n",
      "WARNING:tensorflow:Using a while_loop for converting StatelessRandomUniformV2 cause there is no registered converter for this op.\n",
      "WARNING:tensorflow:Using a while_loop for converting ImageProjectiveTransformV3 cause there is no registered converter for this op.\n",
      "WARNING:tensorflow:Using a while_loop for converting RngReadAndSkip cause there is no registered converter for this op.\n",
      "WARNING:tensorflow:Using a while_loop for converting Bitcast cause there is no registered converter for this op.\n",
      "WARNING:tensorflow:Using a while_loop for converting Bitcast cause there is no registered converter for this op.\n",
      "WARNING:tensorflow:Using a while_loop for converting StatelessRandomUniformV2 cause there is no registered converter for this op.\n",
      "WARNING:tensorflow:Using a while_loop for converting ImageProjectiveTransformV3 cause there is no registered converter for this op.\n"
     ]
    }
   ],
   "source": [
    "train_ds = train_ds.map(\n",
    "    lambda x, y: (data_augmentation(x, training=True), y)\n",
    ").prefetch(buffer_size=tf.data.AUTOTUNE)"
   ]
  },
  {
   "cell_type": "code",
   "execution_count": 48,
   "metadata": {},
   "outputs": [],
   "source": [
    "input_shape = (BATCH_SIZE, IMAGE_SIZE, IMAGE_SIZE, CHANNELS)\n",
    "n_classes = 3\n",
    "\n",
    "model = models.Sequential([\n",
    "    resize_and_rescale,\n",
    "    layers.Conv2D(32, kernel_size = (3,3), activation='relu', input_shape=input_shape),\n",
    "    layers.MaxPooling2D((2, 2)),\n",
    "    layers.Conv2D(64,  kernel_size = (3,3), activation='relu'),\n",
    "    layers.MaxPooling2D((2, 2)),\n",
    "    layers.Conv2D(64,  kernel_size = (3,3), activation='relu'),\n",
    "    layers.MaxPooling2D((2, 2)),\n",
    "    layers.Conv2D(64, (3, 3), activation='relu'),\n",
    "    layers.MaxPooling2D((2, 2)),\n",
    "    layers.Conv2D(64, (3, 3), activation='relu'),\n",
    "    layers.MaxPooling2D((2, 2)),\n",
    "    layers.Conv2D(64, (3, 3), activation='relu'),\n",
    "    layers.MaxPooling2D((2, 2)),\n",
    "    layers.Flatten(),\n",
    "    layers.Dense(64, activation='relu'),\n",
    "    layers.Dense(n_classes, activation='softmax'),\n",
    "])\n",
    "\n",
    "model.build(input_shape=input_shape)"
   ]
  },
  {
   "cell_type": "code",
   "execution_count": 49,
   "metadata": {},
   "outputs": [
    {
     "name": "stdout",
     "output_type": "stream",
     "text": [
      "Model: \"sequential_2\"\n",
      "_________________________________________________________________\n",
      " Layer (type)                Output Shape              Param #   \n",
      "=================================================================\n",
      " sequential (Sequential)     (4, 256, 256, 3)          0         \n",
      "                                                                 \n",
      " conv2d (Conv2D)             (4, 254, 254, 32)         896       \n",
      "                                                                 \n",
      " max_pooling2d (MaxPooling2D  (4, 127, 127, 32)        0         \n",
      " )                                                               \n",
      "                                                                 \n",
      " conv2d_1 (Conv2D)           (4, 125, 125, 64)         18496     \n",
      "                                                                 \n",
      " max_pooling2d_1 (MaxPooling  (4, 62, 62, 64)          0         \n",
      " 2D)                                                             \n",
      "                                                                 \n",
      " conv2d_2 (Conv2D)           (4, 60, 60, 64)           36928     \n",
      "                                                                 \n",
      " max_pooling2d_2 (MaxPooling  (4, 30, 30, 64)          0         \n",
      " 2D)                                                             \n",
      "                                                                 \n",
      " conv2d_3 (Conv2D)           (4, 28, 28, 64)           36928     \n",
      "                                                                 \n",
      " max_pooling2d_3 (MaxPooling  (4, 14, 14, 64)          0         \n",
      " 2D)                                                             \n",
      "                                                                 \n",
      " conv2d_4 (Conv2D)           (4, 12, 12, 64)           36928     \n",
      "                                                                 \n",
      " max_pooling2d_4 (MaxPooling  (4, 6, 6, 64)            0         \n",
      " 2D)                                                             \n",
      "                                                                 \n",
      " conv2d_5 (Conv2D)           (4, 4, 4, 64)             36928     \n",
      "                                                                 \n",
      " max_pooling2d_5 (MaxPooling  (4, 2, 2, 64)            0         \n",
      " 2D)                                                             \n",
      "                                                                 \n",
      " flatten (Flatten)           (4, 256)                  0         \n",
      "                                                                 \n",
      " dense (Dense)               (4, 64)                   16448     \n",
      "                                                                 \n",
      " dense_1 (Dense)             (4, 3)                    195       \n",
      "                                                                 \n",
      "=================================================================\n",
      "Total params: 183,747\n",
      "Trainable params: 183,747\n",
      "Non-trainable params: 0\n",
      "_________________________________________________________________\n"
     ]
    }
   ],
   "source": [
    "model.summary()"
   ]
  },
  {
   "cell_type": "code",
   "execution_count": 50,
   "metadata": {},
   "outputs": [],
   "source": [
    "model.compile(\n",
    "    optimizer='adam',\n",
    "    loss=tf.keras.losses.SparseCategoricalCrossentropy(from_logits=False),\n",
    "    metrics=['accuracy']\n",
    ")"
   ]
  },
  {
   "cell_type": "code",
   "execution_count": 51,
   "metadata": {},
   "outputs": [
    {
     "name": "stdout",
     "output_type": "stream",
     "text": [
      "Epoch 1/50\n",
      "8/8 [==============================] - 5s 384ms/step - loss: 1.1457 - accuracy: 0.3750 - val_loss: 1.1219 - val_accuracy: 0.2500\n",
      "Epoch 2/50\n",
      "8/8 [==============================] - 2s 306ms/step - loss: 1.0985 - accuracy: 0.3125 - val_loss: 1.1053 - val_accuracy: 0.0000e+00\n",
      "Epoch 3/50\n",
      "8/8 [==============================] - 3s 362ms/step - loss: 1.1003 - accuracy: 0.3438 - val_loss: 1.1100 - val_accuracy: 0.0000e+00\n",
      "Epoch 4/50\n",
      "8/8 [==============================] - 3s 313ms/step - loss: 1.0992 - accuracy: 0.1875 - val_loss: 1.1022 - val_accuracy: 0.5000\n",
      "Epoch 5/50\n",
      "8/8 [==============================] - 2s 306ms/step - loss: 1.0972 - accuracy: 0.3438 - val_loss: 1.1057 - val_accuracy: 0.0000e+00\n",
      "Epoch 6/50\n",
      "8/8 [==============================] - 2s 296ms/step - loss: 1.0936 - accuracy: 0.3438 - val_loss: 1.1098 - val_accuracy: 0.0000e+00\n",
      "Epoch 7/50\n",
      "8/8 [==============================] - 3s 336ms/step - loss: 1.0817 - accuracy: 0.3438 - val_loss: 1.1079 - val_accuracy: 0.0000e+00\n",
      "Epoch 8/50\n",
      "8/8 [==============================] - 3s 324ms/step - loss: 1.0555 - accuracy: 0.4688 - val_loss: 1.0385 - val_accuracy: 0.0000e+00\n",
      "Epoch 9/50\n",
      "8/8 [==============================] - 3s 331ms/step - loss: 0.9365 - accuracy: 0.5000 - val_loss: 0.9804 - val_accuracy: 0.5000\n",
      "Epoch 10/50\n",
      "8/8 [==============================] - 3s 338ms/step - loss: 0.6415 - accuracy: 0.7188 - val_loss: 0.4984 - val_accuracy: 1.0000\n",
      "Epoch 11/50\n",
      "8/8 [==============================] - 3s 322ms/step - loss: 0.4205 - accuracy: 0.8750 - val_loss: 1.6115 - val_accuracy: 0.5000\n",
      "Epoch 12/50\n",
      "8/8 [==============================] - 3s 337ms/step - loss: 0.6018 - accuracy: 0.8438 - val_loss: 0.8815 - val_accuracy: 0.5000\n",
      "Epoch 13/50\n",
      "8/8 [==============================] - 3s 337ms/step - loss: 0.3691 - accuracy: 0.8750 - val_loss: 0.7821 - val_accuracy: 0.7500\n",
      "Epoch 14/50\n",
      "8/8 [==============================] - 3s 331ms/step - loss: 0.1473 - accuracy: 1.0000 - val_loss: 2.0359 - val_accuracy: 0.5000\n",
      "Epoch 15/50\n",
      "8/8 [==============================] - 3s 316ms/step - loss: 0.1113 - accuracy: 0.9062 - val_loss: 0.7936 - val_accuracy: 0.7500\n",
      "Epoch 16/50\n",
      "8/8 [==============================] - 3s 335ms/step - loss: 0.2017 - accuracy: 0.9062 - val_loss: 0.7258 - val_accuracy: 0.7500\n",
      "Epoch 17/50\n",
      "8/8 [==============================] - 3s 338ms/step - loss: 0.2821 - accuracy: 0.8750 - val_loss: 1.5066 - val_accuracy: 0.5000\n",
      "Epoch 18/50\n",
      "8/8 [==============================] - 3s 320ms/step - loss: 0.3707 - accuracy: 0.8750 - val_loss: 2.8032 - val_accuracy: 0.5000\n",
      "Epoch 19/50\n",
      "8/8 [==============================] - 3s 325ms/step - loss: 0.2156 - accuracy: 0.9062 - val_loss: 3.6733 - val_accuracy: 0.5000\n",
      "Epoch 20/50\n",
      "8/8 [==============================] - 3s 355ms/step - loss: 0.1268 - accuracy: 0.9375 - val_loss: 1.9867 - val_accuracy: 0.5000\n",
      "Epoch 21/50\n",
      "8/8 [==============================] - 3s 327ms/step - loss: 0.0480 - accuracy: 1.0000 - val_loss: 2.5620 - val_accuracy: 0.5000\n",
      "Epoch 22/50\n",
      "8/8 [==============================] - 3s 398ms/step - loss: 0.0495 - accuracy: 1.0000 - val_loss: 1.5104 - val_accuracy: 0.7500\n",
      "Epoch 23/50\n",
      "8/8 [==============================] - 3s 322ms/step - loss: 0.0402 - accuracy: 0.9688 - val_loss: 0.9166 - val_accuracy: 0.7500\n",
      "Epoch 24/50\n",
      "8/8 [==============================] - 3s 331ms/step - loss: 0.0589 - accuracy: 0.9688 - val_loss: 5.5431 - val_accuracy: 0.5000\n",
      "Epoch 25/50\n",
      "8/8 [==============================] - 3s 359ms/step - loss: 0.6401 - accuracy: 0.8438 - val_loss: 0.9027 - val_accuracy: 0.5000\n",
      "Epoch 26/50\n",
      "8/8 [==============================] - 3s 352ms/step - loss: 0.3662 - accuracy: 0.9062 - val_loss: 0.8915 - val_accuracy: 0.5000\n",
      "Epoch 27/50\n",
      "8/8 [==============================] - 3s 351ms/step - loss: 0.1171 - accuracy: 1.0000 - val_loss: 2.4888 - val_accuracy: 0.5000\n",
      "Epoch 28/50\n",
      "8/8 [==============================] - 3s 345ms/step - loss: 0.1797 - accuracy: 0.9375 - val_loss: 2.4737 - val_accuracy: 0.5000\n",
      "Epoch 29/50\n",
      "8/8 [==============================] - 3s 362ms/step - loss: 0.0964 - accuracy: 0.9688 - val_loss: 1.5211 - val_accuracy: 0.5000\n",
      "Epoch 30/50\n",
      "8/8 [==============================] - 3s 397ms/step - loss: 0.0541 - accuracy: 1.0000 - val_loss: 2.5909 - val_accuracy: 0.5000\n",
      "Epoch 31/50\n",
      "8/8 [==============================] - 3s 386ms/step - loss: 0.0336 - accuracy: 1.0000 - val_loss: 3.0397 - val_accuracy: 0.5000\n",
      "Epoch 32/50\n",
      "8/8 [==============================] - 3s 355ms/step - loss: 0.0126 - accuracy: 1.0000 - val_loss: 2.4452 - val_accuracy: 0.5000\n",
      "Epoch 33/50\n",
      "8/8 [==============================] - 3s 388ms/step - loss: 0.0071 - accuracy: 1.0000 - val_loss: 2.5874 - val_accuracy: 0.5000\n",
      "Epoch 34/50\n",
      "8/8 [==============================] - 3s 352ms/step - loss: 0.0016 - accuracy: 1.0000 - val_loss: 3.0117 - val_accuracy: 0.5000\n",
      "Epoch 35/50\n",
      "8/8 [==============================] - 3s 349ms/step - loss: 7.5137e-04 - accuracy: 1.0000 - val_loss: 3.4293 - val_accuracy: 0.5000\n",
      "Epoch 36/50\n",
      "8/8 [==============================] - 3s 352ms/step - loss: 9.8098e-05 - accuracy: 1.0000 - val_loss: 3.6568 - val_accuracy: 0.5000\n",
      "Epoch 37/50\n",
      "8/8 [==============================] - 3s 361ms/step - loss: 3.7984e-04 - accuracy: 1.0000 - val_loss: 3.8402 - val_accuracy: 0.5000\n",
      "Epoch 38/50\n",
      "8/8 [==============================] - 3s 349ms/step - loss: 3.1223e-04 - accuracy: 1.0000 - val_loss: 3.9389 - val_accuracy: 0.5000\n",
      "Epoch 39/50\n",
      "8/8 [==============================] - 3s 348ms/step - loss: 7.6310e-04 - accuracy: 1.0000 - val_loss: 3.9336 - val_accuracy: 0.5000\n",
      "Epoch 40/50\n",
      "8/8 [==============================] - 3s 341ms/step - loss: 3.3721e-04 - accuracy: 1.0000 - val_loss: 4.8025 - val_accuracy: 0.5000\n",
      "Epoch 41/50\n",
      "8/8 [==============================] - 3s 343ms/step - loss: 8.9333e-05 - accuracy: 1.0000 - val_loss: 4.9802 - val_accuracy: 0.5000\n",
      "Epoch 42/50\n",
      "8/8 [==============================] - 3s 355ms/step - loss: 1.8351e-04 - accuracy: 1.0000 - val_loss: 4.9149 - val_accuracy: 0.5000\n",
      "Epoch 43/50\n",
      "8/8 [==============================] - 3s 344ms/step - loss: 1.6826e-04 - accuracy: 1.0000 - val_loss: 4.6917 - val_accuracy: 0.5000\n",
      "Epoch 44/50\n",
      "8/8 [==============================] - 3s 336ms/step - loss: 4.3579e-05 - accuracy: 1.0000 - val_loss: 4.6189 - val_accuracy: 0.5000\n",
      "Epoch 45/50\n",
      "8/8 [==============================] - 3s 341ms/step - loss: 2.3640e-05 - accuracy: 1.0000 - val_loss: 4.6172 - val_accuracy: 0.5000\n",
      "Epoch 46/50\n",
      "8/8 [==============================] - 3s 346ms/step - loss: 1.4210e-04 - accuracy: 1.0000 - val_loss: 4.5900 - val_accuracy: 0.5000\n",
      "Epoch 47/50\n",
      "8/8 [==============================] - 3s 345ms/step - loss: 3.1601e-05 - accuracy: 1.0000 - val_loss: 4.6147 - val_accuracy: 0.5000\n",
      "Epoch 48/50\n",
      "8/8 [==============================] - 3s 353ms/step - loss: 4.1223e-04 - accuracy: 1.0000 - val_loss: 4.4039 - val_accuracy: 0.5000\n",
      "Epoch 49/50\n",
      "8/8 [==============================] - 3s 374ms/step - loss: 9.7298e-05 - accuracy: 1.0000 - val_loss: 4.2887 - val_accuracy: 0.5000\n",
      "Epoch 50/50\n",
      "8/8 [==============================] - 3s 369ms/step - loss: 4.6273e-05 - accuracy: 1.0000 - val_loss: 4.2864 - val_accuracy: 0.5000\n"
     ]
    }
   ],
   "source": [
    "history = model.fit(\n",
    "    train_ds,\n",
    "    batch_size=BATCH_SIZE,\n",
    "    validation_data=val_ds,\n",
    "    verbose=1,\n",
    "    epochs=50,\n",
    ")"
   ]
  },
  {
   "cell_type": "code",
   "execution_count": 64,
   "metadata": {},
   "outputs": [
    {
     "data": {
      "text/plain": [
       "[2.2169690132141113, 0.625]"
      ]
     },
     "execution_count": 64,
     "metadata": {},
     "output_type": "execute_result"
    }
   ],
   "source": [
    "scores = model.evaluate(test_ds, verbose=0)\n",
    "scores"
   ]
  },
  {
   "cell_type": "code",
   "execution_count": 53,
   "metadata": {},
   "outputs": [
    {
     "data": {
      "text/plain": [
       "{'verbose': 1, 'epochs': 50, 'steps': 8}"
      ]
     },
     "execution_count": 53,
     "metadata": {},
     "output_type": "execute_result"
    }
   ],
   "source": [
    "history.params"
   ]
  },
  {
   "cell_type": "code",
   "execution_count": 54,
   "metadata": {},
   "outputs": [
    {
     "data": {
      "text/plain": [
       "[1.1456795930862427,\n",
       " 1.0984623432159424,\n",
       " 1.1002870798110962,\n",
       " 1.099225640296936,\n",
       " 1.0972015857696533]"
      ]
     },
     "execution_count": 54,
     "metadata": {},
     "output_type": "execute_result"
    }
   ],
   "source": [
    "history.history['loss'][:5]"
   ]
  },
  {
   "cell_type": "code",
   "execution_count": 55,
   "metadata": {},
   "outputs": [],
   "source": [
    "acc = history.history['accuracy']\n",
    "val_acc = history.history['val_accuracy']\n",
    "\n",
    "loss = history.history['loss']\n",
    "val_loss = history.history['val_loss']"
   ]
  },
  {
   "cell_type": "code",
   "execution_count": 56,
   "metadata": {},
   "outputs": [
    {
     "data": {
      "image/png": "[encoded data removed]",
      "text/plain": [
       "<Figure size 576x576 with 2 Axes>"
      ]
     },
     "metadata": {
      "needs_background": "light"
     },
     "output_type": "display_data"
    }
   ],
   "source": [
    "plt.figure(figsize=(8, 8))\n",
    "plt.subplot(1, 2, 1)\n",
    "plt.plot(range(EPOCHS), acc, label='Training Accuracy')\n",
    "plt.plot(range(EPOCHS), val_acc, label='Validation Accuracy')\n",
    "plt.legend(loc='lower right')\n",
    "plt.title('Training and Validation Accuracy')\n",
    "\n",
    "plt.subplot(1, 2, 2)\n",
    "plt.plot(range(EPOCHS), loss, label='Training Loss')\n",
    "plt.plot(range(EPOCHS), val_loss, label='Validation Loss')\n",
    "plt.legend(loc='upper right')\n",
    "plt.title('Training and Validation Loss')\n",
    "plt.show()"
   ]
  },
  {
   "cell_type": "code",
   "execution_count": 67,
   "metadata": {},
   "outputs": [
    {
     "data": {
      "image/png": "[encoded data removed]",
      "text/plain": [
       "<Figure size 432x288 with 1 Axes>"
      ]
     },
     "metadata": {
      "needs_background": "light"
     },
     "output_type": "display_data"
    }
   ],
   "source": [
    "for image_batch, labels_batch in test_ds.take(1):\n",
    "    plt.imshow(image_batch[0].numpy().astype(\"uint8\"))"
   ]
  },
  {
   "cell_type": "code",
   "execution_count": 77,
   "metadata": {},
   "outputs": [
    {
     "name": "stdout",
     "output_type": "stream",
     "text": [
      "first image to predict\n",
      "actual label: two\n",
      "1/1 [==============================] - 0s 85ms/step\n",
      "predicted label: one\n"
     ]
    },
    {
     "data": {
      "image/png": "[encoded data removed]",
      "text/plain": [
       "<Figure size 432x288 with 1 Axes>"
      ]
     },
     "metadata": {
      "needs_background": "light"
     },
     "output_type": "display_data"
    }
   ],
   "source": [
    "import numpy as np\n",
    "for images_batch, labels_batch in test_ds.take(1):\n",
    "    \n",
    "    first_image = images_batch[3].numpy().astype('uint8')\n",
    "    first_label = labels_batch[3].numpy()\n",
    "    \n",
    "    print(\"first image to predict\")\n",
    "    plt.imshow(first_image)\n",
    "    print(\"actual label:\",class_names[first_label])\n",
    "    \n",
    "    batch_prediction = model.predict(images_batch)\n",
    "    print(\"predicted label:\",class_names[np.argmax(batch_prediction[0])])"
   ]
  },
  {
   "cell_type": "code",
   "execution_count": null,
   "metadata": {},
   "outputs": [],
   "source": []
  },
  {
   "cell_type": "code",
   "execution_count": null,
   "metadata": {},
   "outputs": [],
   "source": []
  },
  {
   "cell_type": "code",
   "execution_count": null,
   "metadata": {},
   "outputs": [],
   "source": []
  },
  {
   "cell_type": "code",
   "execution_count": null,
   "metadata": {},
   "outputs": [],
   "source": []
  },
  {
   "cell_type": "code",
   "execution_count": null,
   "metadata": {},
   "outputs": [],
   "source": []
  },
  {
   "cell_type": "code",
   "execution_count": null,
   "metadata": {},
   "outputs": [],
   "source": []
  },
  {
   "cell_type": "code",
   "execution_count": null,
   "metadata": {},
   "outputs": [],
   "source": []
  },
  {
   "cell_type": "code",
   "execution_count": null,
   "metadata": {},
   "outputs": [],
   "source": []
  },
  {
   "cell_type": "code",
   "execution_count": 58,
   "metadata": {},
   "outputs": [
    {
     "data": {
      "text/plain": [
       "<function len(obj, /)>"
      ]
     },
     "execution_count": 58,
     "metadata": {},
     "output_type": "execute_result"
    }
   ],
   "source": [
    "len"
   ]
  },
  {
   "cell_type": "code",
   "execution_count": null,
   "metadata": {},
   "outputs": [],
   "source": []
  },
  {
   "cell_type": "code",
   "execution_count": null,
   "metadata": {},
   "outputs": [],
   "source": []
  },
  {
   "cell_type": "code",
   "execution_count": null,
   "metadata": {},
   "outputs": [],
   "source": []
  },
  {
   "cell_type": "code",
   "execution_count": null,
   "metadata": {},
   "outputs": [],
   "source": []
  },
  {
   "cell_type": "code",
   "execution_count": null,
   "metadata": {},
   "outputs": [],
   "source": []
  },
  {
   "cell_type": "code",
   "execution_count": null,
   "metadata": {},
   "outputs": [],
   "source": []
  }
 ],
 "metadata": {
  "kernelspec": {
   "display_name": "Python 3",
   "language": "python",
   "name": "python3"
  },
  "language_info": {
   "codemirror_mode": {
    "name": "ipython",
    "version": 3
   },
   "file_extension": ".py",
   "mimetype": "text/x-python",
   "name": "python",
   "nbconvert_exporter": "python",
   "pygments_lexer": "ipython3",
   "version": "3.9.5"
  },
  "orig_nbformat": 4
 },
 "nbformat": 4,
 "nbformat_minor": 2
}

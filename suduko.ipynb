{
 "cells": [
  {
   "cell_type": "code",
   "execution_count": 155,
   "metadata": {},
   "outputs": [],
   "source": [
    "import tensorflow as tf\n",
    "from tensorflow.keras import models, layers\n",
    "import matplotlib.pyplot as plt\n",
    "from IPython.display import HTML\n"
   ]
  },
  {
   "cell_type": "code",
   "execution_count": 156,
   "metadata": {},
   "outputs": [],
   "source": [
    "BATCH_SIZE = 2\n",
    "IMAGE_SIZE = 256\n",
    "CHANNELS=3\n",
    "EPOCHS=50"
   ]
  },
  {
   "cell_type": "code",
   "execution_count": 157,
   "metadata": {},
   "outputs": [
    {
     "name": "stdout",
     "output_type": "stream",
     "text": [
      "Found 25 files belonging to 2 classes.\n"
     ]
    }
   ],
   "source": [
    "dataset = tf.keras.preprocessing.image_dataset_from_directory(\n",
    "    \"suduko\",\n",
    "    seed=123,\n",
    "    shuffle=True,\n",
    "    image_size=(IMAGE_SIZE,IMAGE_SIZE),\n",
    "    batch_size=BATCH_SIZE\n",
    ")"
   ]
  },
  {
   "cell_type": "code",
   "execution_count": 158,
   "metadata": {},
   "outputs": [
    {
     "data": {
      "text/plain": [
       "['class1', 'class2']"
      ]
     },
     "execution_count": 158,
     "metadata": {},
     "output_type": "execute_result"
    }
   ],
   "source": [
    "\n",
    "class_names = dataset.class_names\n",
    "class_names\n"
   ]
  },
  {
   "cell_type": "code",
   "execution_count": 159,
   "metadata": {},
   "outputs": [
    {
     "name": "stdout",
     "output_type": "stream",
     "text": [
      "(2, 256, 256, 3)\n",
      "[1 0]\n"
     ]
    }
   ],
   "source": [
    "for image_batch, labels_batch in dataset.take(1):\n",
    "    print(image_batch.shape)\n",
    "    print(labels_batch.numpy())"
   ]
  },
  {
   "cell_type": "code",
   "execution_count": 160,
   "metadata": {},
   "outputs": [
    {
     "data": {
      "image/png": "[encoded data removed]",
      "text/plain": [
       "<Figure size 720x720 with 2 Axes>"
      ]
     },
     "metadata": {
      "needs_background": "light"
     },
     "output_type": "display_data"
    }
   ],
   "source": [
    "plt.figure(figsize=(10, 10))\n",
    "for image_batch, label_batch in dataset.take(1):\n",
    "    for i in range(batch_size):\n",
    "        ax = plt.subplot(2, batch_size//2, i + 1)\n",
    "        plt.imshow(image_batch[i].numpy().astype(\"uint8\"))\n",
    "        plt.title(class_names[label_batch[i]])\n",
    "        plt.axis(\"off\")"
   ]
  },
  {
   "cell_type": "code",
   "execution_count": 161,
   "metadata": {},
   "outputs": [
    {
     "data": {
      "text/plain": [
       "13"
      ]
     },
     "execution_count": 161,
     "metadata": {},
     "output_type": "execute_result"
    }
   ],
   "source": [
    "len(dataset)"
   ]
  },
  {
   "cell_type": "code",
   "execution_count": 162,
   "metadata": {},
   "outputs": [
    {
     "data": {
      "text/plain": [
       "10.4"
      ]
     },
     "execution_count": 162,
     "metadata": {},
     "output_type": "execute_result"
    }
   ],
   "source": [
    "train_size = 0.8\n",
    "len(dataset)*train_size"
   ]
  },
  {
   "cell_type": "code",
   "execution_count": 163,
   "metadata": {},
   "outputs": [
    {
     "data": {
      "text/plain": [
       "3"
      ]
     },
     "execution_count": 163,
     "metadata": {},
     "output_type": "execute_result"
    }
   ],
   "source": [
    "test_ds = dataset.skip(10)\n",
    "len(test_ds)"
   ]
  },
  {
   "cell_type": "code",
   "execution_count": 164,
   "metadata": {},
   "outputs": [
    {
     "data": {
      "text/plain": [
       "1.3"
      ]
     },
     "execution_count": 164,
     "metadata": {},
     "output_type": "execute_result"
    }
   ],
   "source": [
    "val_size=0.1\n",
    "len(dataset)*val_size\n"
   ]
  },
  {
   "cell_type": "code",
   "execution_count": 165,
   "metadata": {},
   "outputs": [
    {
     "data": {
      "text/plain": [
       "1"
      ]
     },
     "execution_count": 165,
     "metadata": {},
     "output_type": "execute_result"
    }
   ],
   "source": [
    "val_ds = test_ds.take(1)\n",
    "len(val_ds)"
   ]
  },
  {
   "cell_type": "code",
   "execution_count": 166,
   "metadata": {},
   "outputs": [
    {
     "data": {
      "text/plain": [
       "2"
      ]
     },
     "execution_count": 166,
     "metadata": {},
     "output_type": "execute_result"
    }
   ],
   "source": [
    "test_ds = test_ds.skip(1)\n",
    "len(test_ds)"
   ]
  },
  {
   "cell_type": "code",
   "execution_count": 167,
   "metadata": {},
   "outputs": [],
   "source": [
    "batch_size = 2"
   ]
  },
  {
   "cell_type": "code",
   "execution_count": 168,
   "metadata": {},
   "outputs": [],
   "source": [
    "def get_dataset_partitions_tf(ds, train_split=0.8, val_split=0.1, test_split=0.1, shuffle=True, shuffle_size=10000):\n",
    "    assert (train_split + test_split + val_split) == 1\n",
    "    \n",
    "    ds_size = len(ds)\n",
    "    \n",
    "    if shuffle:\n",
    "        ds = ds.shuffle(shuffle_size, seed=12)\n",
    "    \n",
    "    train_size = int(train_split * ds_size)\n",
    "    val_size = int(val_split * ds_size)\n",
    "    \n",
    "    train_ds = ds.take(train_size)    \n",
    "    val_ds = ds.skip(train_size).take(val_size)\n",
    "    test_ds = ds.skip(train_size).skip(val_size)\n",
    "    \n",
    "    return train_ds, val_ds, test_ds"
   ]
  },
  {
   "cell_type": "code",
   "execution_count": 169,
   "metadata": {},
   "outputs": [],
   "source": [
    "train_ds, val_ds, test_ds = get_dataset_partitions_tf(dataset)"
   ]
  },
  {
   "cell_type": "code",
   "execution_count": 170,
   "metadata": {},
   "outputs": [
    {
     "data": {
      "text/plain": [
       "(10, 1, 2)"
      ]
     },
     "execution_count": 170,
     "metadata": {},
     "output_type": "execute_result"
    }
   ],
   "source": [
    "len(train_ds), len(val_ds), len(test_ds)"
   ]
  },
  {
   "cell_type": "code",
   "execution_count": 171,
   "metadata": {},
   "outputs": [],
   "source": [
    "train_ds = train_ds.cache().shuffle(1000).prefetch(buffer_size=tf.data.AUTOTUNE)\n",
    "val_ds = val_ds.cache().shuffle(1000).prefetch(buffer_size=tf.data.AUTOTUNE)\n",
    "test_ds = test_ds.cache().shuffle(1000).prefetch(buffer_size=tf.data.AUTOTUNE)"
   ]
  },
  {
   "cell_type": "code",
   "execution_count": 172,
   "metadata": {},
   "outputs": [],
   "source": [
    "resize_and_rescale = tf.keras.Sequential([\n",
    "  layers.experimental.preprocessing.Resizing(IMAGE_SIZE, IMAGE_SIZE),\n",
    "  layers.experimental.preprocessing.Rescaling(1./255),\n",
    "])"
   ]
  },
  {
   "cell_type": "code",
   "execution_count": 173,
   "metadata": {},
   "outputs": [],
   "source": [
    "data_augmentation = tf.keras.Sequential([\n",
    "  layers.experimental.preprocessing.RandomFlip(\"horizontal_and_vertical\"),\n",
    "  layers.experimental.preprocessing.RandomRotation(0.2),\n",
    "])"
   ]
  },
  {
   "cell_type": "code",
   "execution_count": 174,
   "metadata": {},
   "outputs": [
    {
     "name": "stdout",
     "output_type": "stream",
     "text": [
      "WARNING:tensorflow:From c:\\Users\\baral\\AppData\\Local\\Programs\\Python\\Python39\\lib\\site-packages\\tensorflow\\python\\autograph\\pyct\\static_analysis\\liveness.py:83: Analyzer.lamba_check (from tensorflow.python.autograph.pyct.static_analysis.liveness) is deprecated and will be removed after 2023-09-23.\n",
      "Instructions for updating:\n",
      "Lambda fuctions will be no more assumed to be used in the statement where they are used, or at least in the same block. https://github.com/tensorflow/tensorflow/issues/56089\n",
      "WARNING:tensorflow:Using a while_loop for converting RngReadAndSkip cause there is no registered converter for this op.\n",
      "WARNING:tensorflow:Using a while_loop for converting Bitcast cause there is no registered converter for this op.\n",
      "WARNING:tensorflow:Using a while_loop for converting Bitcast cause there is no registered converter for this op.\n",
      "WARNING:tensorflow:Using a while_loop for converting StatelessRandomUniformV2 cause there is no registered converter for this op.\n",
      "WARNING:tensorflow:Using a while_loop for converting ImageProjectiveTransformV3 cause there is no registered converter for this op.\n",
      "WARNING:tensorflow:Using a while_loop for converting RngReadAndSkip cause there is no registered converter for this op.\n",
      "WARNING:tensorflow:Using a while_loop for converting Bitcast cause there is no registered converter for this op.\n",
      "WARNING:tensorflow:Using a while_loop for converting Bitcast cause there is no registered converter for this op.\n",
      "WARNING:tensorflow:Using a while_loop for converting StatelessRandomUniformV2 cause there is no registered converter for this op.\n",
      "WARNING:tensorflow:Using a while_loop for converting ImageProjectiveTransformV3 cause there is no registered converter for this op.\n"
     ]
    }
   ],
   "source": [
    "train_ds = train_ds.map(\n",
    "    lambda x, y: (data_augmentation(x, training=True), y)\n",
    ").prefetch(buffer_size=tf.data.AUTOTUNE)"
   ]
  },
  {
   "cell_type": "code",
   "execution_count": 175,
   "metadata": {},
   "outputs": [],
   "source": [
    "input_shape = (BATCH_SIZE, IMAGE_SIZE, IMAGE_SIZE, CHANNELS)\n",
    "n_classes = 3\n",
    "\n",
    "model = models.Sequential([\n",
    "    resize_and_rescale,\n",
    "    layers.Conv2D(32, kernel_size = (3,3), activation='relu', input_shape=input_shape),\n",
    "    layers.MaxPooling2D((2, 2)),\n",
    "    layers.Conv2D(64,  kernel_size = (3,3), activation='relu'),\n",
    "    layers.MaxPooling2D((2, 2)),\n",
    "    layers.Conv2D(64,  kernel_size = (3,3), activation='relu'),\n",
    "    layers.MaxPooling2D((2, 2)),\n",
    "    layers.Conv2D(64, (3, 3), activation='relu'),\n",
    "    layers.MaxPooling2D((2, 2)),\n",
    "    layers.Conv2D(64, (3, 3), activation='relu'),\n",
    "    layers.MaxPooling2D((2, 2)),\n",
    "    layers.Conv2D(64, (3, 3), activation='relu'),\n",
    "    layers.MaxPooling2D((2, 2)),\n",
    "    layers.Flatten(),\n",
    "    layers.Dense(64, activation='relu'),\n",
    "    layers.Dense(n_classes, activation='softmax'),\n",
    "])\n",
    "\n",
    "model.build(input_shape=input_shape)"
   ]
  },
  {
   "cell_type": "code",
   "execution_count": 178,
   "metadata": {},
   "outputs": [
    {
     "name": "stdout",
     "output_type": "stream",
     "text": [
      "Model: \"sequential_12\"\n",
      "_________________________________________________________________\n",
      " Layer (type)                Output Shape              Param #   \n",
      "=================================================================\n",
      " sequential_10 (Sequential)  (2, 256, 256, 3)          0         \n",
      "                                                                 \n",
      " conv2d_15 (Conv2D)          (2, 254, 254, 32)         896       \n",
      "                                                                 \n",
      " max_pooling2d_15 (MaxPoolin  (2, 127, 127, 32)        0         \n",
      " g2D)                                                            \n",
      "                                                                 \n",
      " conv2d_16 (Conv2D)          (2, 125, 125, 64)         18496     \n",
      "                                                                 \n",
      " max_pooling2d_16 (MaxPoolin  (2, 62, 62, 64)          0         \n",
      " g2D)                                                            \n",
      "                                                                 \n",
      " conv2d_17 (Conv2D)          (2, 60, 60, 64)           36928     \n",
      "                                                                 \n",
      " max_pooling2d_17 (MaxPoolin  (2, 30, 30, 64)          0         \n",
      " g2D)                                                            \n",
      "                                                                 \n",
      " conv2d_18 (Conv2D)          (2, 28, 28, 64)           36928     \n",
      "                                                                 \n",
      " max_pooling2d_18 (MaxPoolin  (2, 14, 14, 64)          0         \n",
      " g2D)                                                            \n",
      "                                                                 \n",
      " conv2d_19 (Conv2D)          (2, 12, 12, 64)           36928     \n",
      "                                                                 \n",
      " max_pooling2d_19 (MaxPoolin  (2, 6, 6, 64)            0         \n",
      " g2D)                                                            \n",
      "                                                                 \n",
      " conv2d_20 (Conv2D)          (2, 4, 4, 64)             36928     \n",
      "                                                                 \n",
      " max_pooling2d_20 (MaxPoolin  (2, 2, 2, 64)            0         \n",
      " g2D)                                                            \n",
      "                                                                 \n",
      " flatten_5 (Flatten)         (2, 256)                  0         \n",
      "                                                                 \n",
      " dense_10 (Dense)            (2, 64)                   16448     \n",
      "                                                                 \n",
      " dense_11 (Dense)            (2, 3)                    195       \n",
      "                                                                 \n",
      "=================================================================\n",
      "Total params: 183,747\n",
      "Trainable params: 183,747\n",
      "Non-trainable params: 0\n",
      "_________________________________________________________________\n"
     ]
    }
   ],
   "source": [
    "model.summary()"
   ]
  },
  {
   "cell_type": "code",
   "execution_count": 179,
   "metadata": {},
   "outputs": [],
   "source": [
    "model.compile(\n",
    "    optimizer='adam',\n",
    "    loss=tf.keras.losses.SparseCategoricalCrossentropy(from_logits=False),\n",
    "    metrics=['accuracy']\n",
    ")"
   ]
  },
  {
   "cell_type": "code",
   "execution_count": 180,
   "metadata": {},
   "outputs": [
    {
     "name": "stdout",
     "output_type": "stream",
     "text": [
      "Epoch 1/50\n",
      "10/10 [==============================] - 3s 173ms/step - loss: 0.9456 - accuracy: 0.3684 - val_loss: 0.6416 - val_accuracy: 1.0000\n",
      "Epoch 2/50\n",
      "10/10 [==============================] - 1s 130ms/step - loss: 0.8076 - accuracy: 0.5789 - val_loss: 1.1067 - val_accuracy: 0.0000e+00\n",
      "Epoch 3/50\n",
      "10/10 [==============================] - 1s 142ms/step - loss: 0.8348 - accuracy: 0.4737 - val_loss: 0.9943 - val_accuracy: 0.0000e+00\n",
      "Epoch 4/50\n",
      "10/10 [==============================] - 1s 141ms/step - loss: 0.8315 - accuracy: 0.4737 - val_loss: 1.0492 - val_accuracy: 0.0000e+00\n",
      "Epoch 5/50\n",
      "10/10 [==============================] - 1s 138ms/step - loss: 0.7804 - accuracy: 0.4737 - val_loss: 0.7500 - val_accuracy: 0.0000e+00\n",
      "Epoch 6/50\n",
      "10/10 [==============================] - 1s 136ms/step - loss: 0.7199 - accuracy: 0.4211 - val_loss: 0.6341 - val_accuracy: 1.0000\n",
      "Epoch 7/50\n",
      "10/10 [==============================] - 1s 128ms/step - loss: 0.7411 - accuracy: 0.3684 - val_loss: 0.8030 - val_accuracy: 0.0000e+00\n",
      "Epoch 8/50\n",
      "10/10 [==============================] - 2s 174ms/step - loss: 0.7171 - accuracy: 0.4211 - val_loss: 0.5356 - val_accuracy: 1.0000\n",
      "Epoch 9/50\n",
      "10/10 [==============================] - 2s 169ms/step - loss: 0.7055 - accuracy: 0.5263 - val_loss: 0.6143 - val_accuracy: 1.0000\n",
      "Epoch 10/50\n",
      "10/10 [==============================] - 2s 159ms/step - loss: 0.7218 - accuracy: 0.3684 - val_loss: 0.7891 - val_accuracy: 0.0000e+00\n",
      "Epoch 11/50\n",
      "10/10 [==============================] - 1s 137ms/step - loss: 0.7096 - accuracy: 0.3684 - val_loss: 0.7218 - val_accuracy: 0.0000e+00\n",
      "Epoch 12/50\n",
      "10/10 [==============================] - 1s 132ms/step - loss: 0.7087 - accuracy: 0.3684 - val_loss: 0.6593 - val_accuracy: 1.0000\n",
      "Epoch 13/50\n",
      "10/10 [==============================] - 1s 135ms/step - loss: 0.7009 - accuracy: 0.5263 - val_loss: 0.6484 - val_accuracy: 1.0000\n",
      "Epoch 14/50\n",
      "10/10 [==============================] - 1s 141ms/step - loss: 0.6982 - accuracy: 0.4211 - val_loss: 0.7050 - val_accuracy: 0.0000e+00\n",
      "Epoch 15/50\n",
      "10/10 [==============================] - 1s 138ms/step - loss: 0.7272 - accuracy: 0.4737 - val_loss: 0.7755 - val_accuracy: 0.0000e+00\n",
      "Epoch 16/50\n",
      "10/10 [==============================] - 2s 151ms/step - loss: 0.7100 - accuracy: 0.3684 - val_loss: 0.6210 - val_accuracy: 1.0000\n",
      "Epoch 17/50\n",
      "10/10 [==============================] - 1s 138ms/step - loss: 0.7052 - accuracy: 0.5263 - val_loss: 0.6528 - val_accuracy: 1.0000\n",
      "Epoch 18/50\n",
      "10/10 [==============================] - 1s 136ms/step - loss: 0.7170 - accuracy: 0.3684 - val_loss: 0.7691 - val_accuracy: 0.0000e+00\n",
      "Epoch 19/50\n",
      "10/10 [==============================] - 1s 136ms/step - loss: 0.7112 - accuracy: 0.4737 - val_loss: 0.6995 - val_accuracy: 0.0000e+00\n",
      "Epoch 20/50\n",
      "10/10 [==============================] - 1s 147ms/step - loss: 0.6959 - accuracy: 0.5263 - val_loss: 0.6133 - val_accuracy: 1.0000\n",
      "Epoch 21/50\n",
      "10/10 [==============================] - 1s 138ms/step - loss: 0.7069 - accuracy: 0.5263 - val_loss: 0.6698 - val_accuracy: 1.0000\n",
      "Epoch 22/50\n",
      "10/10 [==============================] - 2s 178ms/step - loss: 0.7092 - accuracy: 0.3158 - val_loss: 0.7355 - val_accuracy: 0.0000e+00\n",
      "Epoch 23/50\n",
      "10/10 [==============================] - 2s 156ms/step - loss: 0.7086 - accuracy: 0.4211 - val_loss: 0.6074 - val_accuracy: 1.0000\n",
      "Epoch 24/50\n",
      "10/10 [==============================] - 2s 164ms/step - loss: 0.6998 - accuracy: 0.5263 - val_loss: 0.6414 - val_accuracy: 1.0000\n",
      "Epoch 25/50\n",
      "10/10 [==============================] - 1s 153ms/step - loss: 0.7035 - accuracy: 0.5263 - val_loss: 0.7685 - val_accuracy: 0.0000e+00\n",
      "Epoch 26/50\n",
      "10/10 [==============================] - 1s 140ms/step - loss: 0.7054 - accuracy: 0.4737 - val_loss: 0.7196 - val_accuracy: 0.0000e+00\n",
      "Epoch 27/50\n",
      "10/10 [==============================] - 1s 145ms/step - loss: 0.7013 - accuracy: 0.4211 - val_loss: 0.7065 - val_accuracy: 0.0000e+00\n",
      "Epoch 28/50\n",
      "10/10 [==============================] - 1s 157ms/step - loss: 0.7406 - accuracy: 0.4737 - val_loss: 0.8207 - val_accuracy: 0.0000e+00\n",
      "Epoch 29/50\n",
      "10/10 [==============================] - 1s 138ms/step - loss: 0.6999 - accuracy: 0.4737 - val_loss: 0.7047 - val_accuracy: 0.0000e+00\n",
      "Epoch 30/50\n",
      "10/10 [==============================] - 1s 136ms/step - loss: 0.6964 - accuracy: 0.5263 - val_loss: 0.6470 - val_accuracy: 1.0000\n",
      "Epoch 31/50\n",
      "10/10 [==============================] - 1s 138ms/step - loss: 0.7022 - accuracy: 0.5263 - val_loss: 0.5965 - val_accuracy: 1.0000\n",
      "Epoch 32/50\n",
      "10/10 [==============================] - 1s 138ms/step - loss: 0.7177 - accuracy: 0.4211 - val_loss: 0.8138 - val_accuracy: 0.0000e+00\n",
      "Epoch 33/50\n",
      "10/10 [==============================] - 1s 138ms/step - loss: 0.7148 - accuracy: 0.4737 - val_loss: 0.7306 - val_accuracy: 0.0000e+00\n",
      "Epoch 34/50\n",
      "10/10 [==============================] - 2s 147ms/step - loss: 0.7019 - accuracy: 0.4737 - val_loss: 0.7452 - val_accuracy: 0.0000e+00\n",
      "Epoch 35/50\n",
      "10/10 [==============================] - 2s 164ms/step - loss: 0.7049 - accuracy: 0.4211 - val_loss: 0.6303 - val_accuracy: 1.0000\n",
      "Epoch 36/50\n",
      "10/10 [==============================] - 1s 149ms/step - loss: 0.7020 - accuracy: 0.4211 - val_loss: 0.7365 - val_accuracy: 0.0000e+00\n",
      "Epoch 37/50\n",
      "10/10 [==============================] - 2s 161ms/step - loss: 0.7035 - accuracy: 0.4737 - val_loss: 0.7515 - val_accuracy: 0.0000e+00\n",
      "Epoch 38/50\n",
      "10/10 [==============================] - 1s 149ms/step - loss: 0.7172 - accuracy: 0.3158 - val_loss: 0.6183 - val_accuracy: 1.0000\n",
      "Epoch 39/50\n",
      "10/10 [==============================] - 1s 140ms/step - loss: 0.7023 - accuracy: 0.5263 - val_loss: 0.6749 - val_accuracy: 1.0000\n",
      "Epoch 40/50\n",
      "10/10 [==============================] - 1s 142ms/step - loss: 0.6977 - accuracy: 0.4211 - val_loss: 0.6874 - val_accuracy: 1.0000\n",
      "Epoch 41/50\n",
      "10/10 [==============================] - 2s 151ms/step - loss: 0.7068 - accuracy: 0.3684 - val_loss: 0.7361 - val_accuracy: 0.0000e+00\n",
      "Epoch 42/50\n",
      "10/10 [==============================] - 1s 139ms/step - loss: 0.7049 - accuracy: 0.4737 - val_loss: 0.7283 - val_accuracy: 0.0000e+00\n",
      "Epoch 43/50\n",
      "10/10 [==============================] - 1s 144ms/step - loss: 0.6962 - accuracy: 0.5263 - val_loss: 0.6261 - val_accuracy: 1.0000\n",
      "Epoch 44/50\n",
      "10/10 [==============================] - 1s 134ms/step - loss: 0.7019 - accuracy: 0.5263 - val_loss: 0.6009 - val_accuracy: 1.0000\n",
      "Epoch 45/50\n",
      "10/10 [==============================] - 1s 138ms/step - loss: 0.6937 - accuracy: 0.5263 - val_loss: 0.6642 - val_accuracy: 1.0000\n",
      "Epoch 46/50\n",
      "10/10 [==============================] - 1s 135ms/step - loss: 0.6938 - accuracy: 0.5263 - val_loss: 0.7233 - val_accuracy: 0.0000e+00\n",
      "Epoch 47/50\n",
      "10/10 [==============================] - 1s 139ms/step - loss: 0.7001 - accuracy: 0.3158 - val_loss: 0.7177 - val_accuracy: 0.0000e+00\n",
      "Epoch 48/50\n",
      "10/10 [==============================] - 1s 137ms/step - loss: 0.7166 - accuracy: 0.4737 - val_loss: 0.7535 - val_accuracy: 0.0000e+00\n",
      "Epoch 49/50\n",
      "10/10 [==============================] - 1s 142ms/step - loss: 0.7125 - accuracy: 0.3684 - val_loss: 0.6622 - val_accuracy: 1.0000\n",
      "Epoch 50/50\n",
      "10/10 [==============================] - 1s 137ms/step - loss: 0.6960 - accuracy: 0.5263 - val_loss: 0.6689 - val_accuracy: 1.0000\n"
     ]
    }
   ],
   "source": [
    "history = model.fit(\n",
    "    train_ds,\n",
    "    batch_size=BATCH_SIZE,\n",
    "    validation_data=val_ds,\n",
    "    verbose=1,\n",
    "    epochs=50,\n",
    ")"
   ]
  },
  {
   "cell_type": "code",
   "execution_count": 182,
   "metadata": {},
   "outputs": [
    {
     "data": {
      "text/plain": [
       "[0.6949946880340576, 0.5]"
      ]
     },
     "execution_count": 182,
     "metadata": {},
     "output_type": "execute_result"
    }
   ],
   "source": [
    "scores = model.evaluate(test_ds, verbose=0)\n",
    "scores"
   ]
  },
  {
   "cell_type": "code",
   "execution_count": 183,
   "metadata": {},
   "outputs": [
    {
     "data": {
      "text/plain": [
       "{'verbose': 1, 'epochs': 50, 'steps': 10}"
      ]
     },
     "execution_count": 183,
     "metadata": {},
     "output_type": "execute_result"
    }
   ],
   "source": [
    "history.params"
   ]
  },
  {
   "cell_type": "code",
   "execution_count": 184,
   "metadata": {},
   "outputs": [
    {
     "data": {
      "text/plain": [
       "[0.9456301331520081,\n",
       " 0.8075591325759888,\n",
       " 0.8347709774971008,\n",
       " 0.8315442800521851,\n",
       " 0.7804027795791626]"
      ]
     },
     "execution_count": 184,
     "metadata": {},
     "output_type": "execute_result"
    }
   ],
   "source": [
    "history.history['loss'][:5]"
   ]
  },
  {
   "cell_type": "code",
   "execution_count": 185,
   "metadata": {},
   "outputs": [],
   "source": [
    "acc = history.history['accuracy']\n",
    "val_acc = history.history['val_accuracy']\n",
    "\n",
    "loss = history.history['loss']\n",
    "val_loss = history.history['val_loss']"
   ]
  },
  {
   "cell_type": "code",
   "execution_count": 186,
   "metadata": {},
   "outputs": [
    {
     "data": {
      "image/png": "[encoded data removed]",
      "text/plain": [
       "<Figure size 576x576 with 2 Axes>"
      ]
     },
     "metadata": {
      "needs_background": "light"
     },
     "output_type": "display_data"
    }
   ],
   "source": [
    "plt.figure(figsize=(8, 8))\n",
    "plt.subplot(1, 2, 1)\n",
    "plt.plot(range(EPOCHS), acc, label='Training Accuracy')\n",
    "plt.plot(range(EPOCHS), val_acc, label='Validation Accuracy')\n",
    "plt.legend(loc='lower right')\n",
    "plt.title('Training and Validation Accuracy')\n",
    "\n",
    "plt.subplot(1, 2, 2)\n",
    "plt.plot(range(EPOCHS), loss, label='Training Loss')\n",
    "plt.plot(range(EPOCHS), val_loss, label='Validation Loss')\n",
    "plt.legend(loc='upper right')\n",
    "plt.title('Training and Validation Loss')\n",
    "plt.show()"
   ]
  },
  {
   "cell_type": "code",
   "execution_count": 188,
   "metadata": {},
   "outputs": [
    {
     "name": "stdout",
     "output_type": "stream",
     "text": [
      "first image to predict\n",
      "actual label: class1\n",
      "1/1 [==============================] - 0s 195ms/step\n",
      "predicted label: class2\n"
     ]
    },
    {
     "data": {
      "image/png": "[encoded data removed]",
      "text/plain": [
       "<Figure size 432x288 with 1 Axes>"
      ]
     },
     "metadata": {
      "needs_background": "light"
     },
     "output_type": "display_data"
    }
   ],
   "source": [
    "import numpy as np\n",
    "for images_batch, labels_batch in test_ds.take(1):\n",
    "    \n",
    "    first_image = images_batch[0].numpy().astype('uint8')\n",
    "    first_label = labels_batch[0].numpy()\n",
    "    \n",
    "    print(\"first image to predict\")\n",
    "    plt.imshow(first_image)\n",
    "    print(\"actual label:\",class_names[first_label])\n",
    "    \n",
    "    batch_prediction = model.predict(images_batch)\n",
    "    print(\"predicted label:\",class_names[np.argmax(batch_prediction[0])])"
   ]
  },
  {
   "cell_type": "code",
   "execution_count": null,
   "metadata": {},
   "outputs": [],
   "source": []
  },
  {
   "cell_type": "code",
   "execution_count": null,
   "metadata": {},
   "outputs": [],
   "source": []
  },
  {
   "cell_type": "code",
   "execution_count": null,
   "metadata": {},
   "outputs": [],
   "source": []
  },
  {
   "cell_type": "code",
   "execution_count": null,
   "metadata": {},
   "outputs": [],
   "source": []
  },
  {
   "cell_type": "code",
   "execution_count": null,
   "metadata": {},
   "outputs": [],
   "source": []
  },
  {
   "cell_type": "code",
   "execution_count": null,
   "metadata": {},
   "outputs": [],
   "source": []
  },
  {
   "cell_type": "code",
   "execution_count": null,
   "metadata": {},
   "outputs": [],
   "source": []
  },
  {
   "cell_type": "code",
   "execution_count": null,
   "metadata": {},
   "outputs": [],
   "source": []
  },
  {
   "cell_type": "code",
   "execution_count": 176,
   "metadata": {},
   "outputs": [
    {
     "data": {
      "text/plain": [
       "<function len(obj, /)>"
      ]
     },
     "execution_count": 176,
     "metadata": {},
     "output_type": "execute_result"
    }
   ],
   "source": [
    "len"
   ]
  },
  {
   "cell_type": "code",
   "execution_count": null,
   "metadata": {},
   "outputs": [],
   "source": []
  },
  {
   "cell_type": "code",
   "execution_count": null,
   "metadata": {},
   "outputs": [],
   "source": []
  },
  {
   "cell_type": "code",
   "execution_count": null,
   "metadata": {},
   "outputs": [],
   "source": []
  },
  {
   "cell_type": "code",
   "execution_count": null,
   "metadata": {},
   "outputs": [],
   "source": []
  },
  {
   "cell_type": "code",
   "execution_count": null,
   "metadata": {},
   "outputs": [],
   "source": []
  },
  {
   "cell_type": "code",
   "execution_count": null,
   "metadata": {},
   "outputs": [],
   "source": []
  }
 ],
 "metadata": {
  "kernelspec": {
   "display_name": "Python 3",
   "language": "python",
   "name": "python3"
  },
  "language_info": {
   "codemirror_mode": {
    "name": "ipython",
    "version": 3
   },
   "file_extension": ".py",
   "mimetype": "text/x-python",
   "name": "python",
   "nbconvert_exporter": "python",
   "pygments_lexer": "ipython3",
   "version": "3.9.5"
  },
  "orig_nbformat": 4
 },
 "nbformat": 4,
 "nbformat_minor": 2
}
